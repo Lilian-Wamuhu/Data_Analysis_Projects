{
  "nbformat": 4,
  "nbformat_minor": 0,
  "metadata": {
    "colab": {
      "provenance": []
    },
    "kernelspec": {
      "name": "python3",
      "display_name": "Python 3"
    },
    "language_info": {
      "name": "python"
    }
  },
  "cells": [
    {
      "cell_type": "code",
      "source": [
        "#Installing geopandas\n",
        "!pip install geopandas"
      ],
      "metadata": {
        "id": "d2mGvFX0GShW"
      },
      "execution_count": null,
      "outputs": []
    },
    {
      "cell_type": "code",
      "execution_count": 47,
      "metadata": {
        "id": "4Qzw6w8sGPGz"
      },
      "outputs": [],
      "source": [
        "#Importing the libraries\n",
        "import pandas as pd\n",
        "import geopandas as gpd\n",
        "from shapely.geometry import Point\n",
        "import matplotlib.pyplot as plt\n",
        "import seaborn as sns\n",
        "import plotly.express as px"
      ]
    },
    {
      "cell_type": "code",
      "source": [
        "#Openning the data\n",
        "url = \"https://raw.githubusercontent.com/rfordatascience/tidytuesday/master/data/2020/2020-04-21/gdpr_violations.tsv\"\n",
        "df = pd.read_csv(url, sep='\\t')\n",
        "df.head()"
      ],
      "metadata": {
        "id": "FwauLW7yGWR_",
        "colab": {
          "base_uri": "https://localhost:8080/",
          "height": 721
        },
        "outputId": "3b5a393c-acb3-473d-d41a-6fc1975bd4c1"
      },
      "execution_count": 48,
      "outputs": [
        {
          "output_type": "execute_result",
          "data": {
            "text/plain": [
              "   id                                            picture     name   price  \\\n",
              "0   1  https://www.privacyaffairs.com/wp-content/uplo...   Poland    9380   \n",
              "1   2  https://www.privacyaffairs.com/wp-content/uplo...  Romania    2500   \n",
              "2   3  https://www.privacyaffairs.com/wp-content/uplo...    Spain   60000   \n",
              "3   4  https://www.privacyaffairs.com/wp-content/uplo...    Spain    8000   \n",
              "4   5  https://www.privacyaffairs.com/wp-content/uplo...  Romania  150000   \n",
              "\n",
              "                                           authority        date  \\\n",
              "0  Polish National Personal Data Protection Offic...  10/18/2019   \n",
              "1  Romanian National Supervisory Authority for Pe...  10/17/2019   \n",
              "2           Spanish Data Protection Authority (AEPD)  10/16/2019   \n",
              "3           Spanish Data Protection Authority (AEPD)  10/16/2019   \n",
              "4  Romanian National Supervisory Authority for Pe...  10/09/2019   \n",
              "\n",
              "           controller                                   article_violated  \\\n",
              "0        Polish Mayor                                       Art. 28 GDPR   \n",
              "1    UTTIS INDUSTRIES  Art. 12 GDPR|Art. 13 GDPR|Art. 5 (1) c) GDPR|A...   \n",
              "2  Xfera Moviles S.A.                            Art. 5 GDPR|Art. 6 GDPR   \n",
              "3  Iberdrola Clientes                                       Art. 31 GDPR   \n",
              "4  Raiffeisen Bank SA                                       Art. 32 GDPR   \n",
              "\n",
              "                                                type  \\\n",
              "0  Non-compliance with lawful basis for data proc...   \n",
              "1              Information obligation non-compliance   \n",
              "2  Non-compliance with lawful basis for data proc...   \n",
              "3    Failure to cooperate with supervisory authority   \n",
              "4  Failure to implement sufficient measures to en...   \n",
              "\n",
              "                                              source  \\\n",
              "0        https://uodo.gov.pl/decyzje/ZSPU.421.3.2019   \n",
              "1  https://www.dataprotection.ro/?page=A_patra_am...   \n",
              "2  https://www.aepd.es/resoluciones/PS-00262-2019...   \n",
              "3  https://www.aepd.es/resoluciones/PS-00304-2019...   \n",
              "4  https://www.dataprotection.ro/?page=Comunicat_...   \n",
              "\n",
              "                                             summary  \n",
              "0  No data processing agreement has been conclude...  \n",
              "1  A controller was sanctioned because he had unl...  \n",
              "2  The company had unlawfully processed the perso...  \n",
              "3  Iberdrola Clientes violated Article 13 of the ...  \n",
              "4  Raiffeisen Bank Romania did not observe the ne...  "
            ],
            "text/html": [
              "\n",
              "  <div id=\"df-c39144d2-a951-4193-838b-d3c9a6c074b6\">\n",
              "    <div class=\"colab-df-container\">\n",
              "      <div>\n",
              "<style scoped>\n",
              "    .dataframe tbody tr th:only-of-type {\n",
              "        vertical-align: middle;\n",
              "    }\n",
              "\n",
              "    .dataframe tbody tr th {\n",
              "        vertical-align: top;\n",
              "    }\n",
              "\n",
              "    .dataframe thead th {\n",
              "        text-align: right;\n",
              "    }\n",
              "</style>\n",
              "<table border=\"1\" class=\"dataframe\">\n",
              "  <thead>\n",
              "    <tr style=\"text-align: right;\">\n",
              "      <th></th>\n",
              "      <th>id</th>\n",
              "      <th>picture</th>\n",
              "      <th>name</th>\n",
              "      <th>price</th>\n",
              "      <th>authority</th>\n",
              "      <th>date</th>\n",
              "      <th>controller</th>\n",
              "      <th>article_violated</th>\n",
              "      <th>type</th>\n",
              "      <th>source</th>\n",
              "      <th>summary</th>\n",
              "    </tr>\n",
              "  </thead>\n",
              "  <tbody>\n",
              "    <tr>\n",
              "      <th>0</th>\n",
              "      <td>1</td>\n",
              "      <td>https://www.privacyaffairs.com/wp-content/uplo...</td>\n",
              "      <td>Poland</td>\n",
              "      <td>9380</td>\n",
              "      <td>Polish National Personal Data Protection Offic...</td>\n",
              "      <td>10/18/2019</td>\n",
              "      <td>Polish Mayor</td>\n",
              "      <td>Art. 28 GDPR</td>\n",
              "      <td>Non-compliance with lawful basis for data proc...</td>\n",
              "      <td>https://uodo.gov.pl/decyzje/ZSPU.421.3.2019</td>\n",
              "      <td>No data processing agreement has been conclude...</td>\n",
              "    </tr>\n",
              "    <tr>\n",
              "      <th>1</th>\n",
              "      <td>2</td>\n",
              "      <td>https://www.privacyaffairs.com/wp-content/uplo...</td>\n",
              "      <td>Romania</td>\n",
              "      <td>2500</td>\n",
              "      <td>Romanian National Supervisory Authority for Pe...</td>\n",
              "      <td>10/17/2019</td>\n",
              "      <td>UTTIS INDUSTRIES</td>\n",
              "      <td>Art. 12 GDPR|Art. 13 GDPR|Art. 5 (1) c) GDPR|A...</td>\n",
              "      <td>Information obligation non-compliance</td>\n",
              "      <td>https://www.dataprotection.ro/?page=A_patra_am...</td>\n",
              "      <td>A controller was sanctioned because he had unl...</td>\n",
              "    </tr>\n",
              "    <tr>\n",
              "      <th>2</th>\n",
              "      <td>3</td>\n",
              "      <td>https://www.privacyaffairs.com/wp-content/uplo...</td>\n",
              "      <td>Spain</td>\n",
              "      <td>60000</td>\n",
              "      <td>Spanish Data Protection Authority (AEPD)</td>\n",
              "      <td>10/16/2019</td>\n",
              "      <td>Xfera Moviles S.A.</td>\n",
              "      <td>Art. 5 GDPR|Art. 6 GDPR</td>\n",
              "      <td>Non-compliance with lawful basis for data proc...</td>\n",
              "      <td>https://www.aepd.es/resoluciones/PS-00262-2019...</td>\n",
              "      <td>The company had unlawfully processed the perso...</td>\n",
              "    </tr>\n",
              "    <tr>\n",
              "      <th>3</th>\n",
              "      <td>4</td>\n",
              "      <td>https://www.privacyaffairs.com/wp-content/uplo...</td>\n",
              "      <td>Spain</td>\n",
              "      <td>8000</td>\n",
              "      <td>Spanish Data Protection Authority (AEPD)</td>\n",
              "      <td>10/16/2019</td>\n",
              "      <td>Iberdrola Clientes</td>\n",
              "      <td>Art. 31 GDPR</td>\n",
              "      <td>Failure to cooperate with supervisory authority</td>\n",
              "      <td>https://www.aepd.es/resoluciones/PS-00304-2019...</td>\n",
              "      <td>Iberdrola Clientes violated Article 13 of the ...</td>\n",
              "    </tr>\n",
              "    <tr>\n",
              "      <th>4</th>\n",
              "      <td>5</td>\n",
              "      <td>https://www.privacyaffairs.com/wp-content/uplo...</td>\n",
              "      <td>Romania</td>\n",
              "      <td>150000</td>\n",
              "      <td>Romanian National Supervisory Authority for Pe...</td>\n",
              "      <td>10/09/2019</td>\n",
              "      <td>Raiffeisen Bank SA</td>\n",
              "      <td>Art. 32 GDPR</td>\n",
              "      <td>Failure to implement sufficient measures to en...</td>\n",
              "      <td>https://www.dataprotection.ro/?page=Comunicat_...</td>\n",
              "      <td>Raiffeisen Bank Romania did not observe the ne...</td>\n",
              "    </tr>\n",
              "  </tbody>\n",
              "</table>\n",
              "</div>\n",
              "      <button class=\"colab-df-convert\" onclick=\"convertToInteractive('df-c39144d2-a951-4193-838b-d3c9a6c074b6')\"\n",
              "              title=\"Convert this dataframe to an interactive table.\"\n",
              "              style=\"display:none;\">\n",
              "        \n",
              "  <svg xmlns=\"http://www.w3.org/2000/svg\" height=\"24px\"viewBox=\"0 0 24 24\"\n",
              "       width=\"24px\">\n",
              "    <path d=\"M0 0h24v24H0V0z\" fill=\"none\"/>\n",
              "    <path d=\"M18.56 5.44l.94 2.06.94-2.06 2.06-.94-2.06-.94-.94-2.06-.94 2.06-2.06.94zm-11 1L8.5 8.5l.94-2.06 2.06-.94-2.06-.94L8.5 2.5l-.94 2.06-2.06.94zm10 10l.94 2.06.94-2.06 2.06-.94-2.06-.94-.94-2.06-.94 2.06-2.06.94z\"/><path d=\"M17.41 7.96l-1.37-1.37c-.4-.4-.92-.59-1.43-.59-.52 0-1.04.2-1.43.59L10.3 9.45l-7.72 7.72c-.78.78-.78 2.05 0 2.83L4 21.41c.39.39.9.59 1.41.59.51 0 1.02-.2 1.41-.59l7.78-7.78 2.81-2.81c.8-.78.8-2.07 0-2.86zM5.41 20L4 18.59l7.72-7.72 1.47 1.35L5.41 20z\"/>\n",
              "  </svg>\n",
              "      </button>\n",
              "      \n",
              "  <style>\n",
              "    .colab-df-container {\n",
              "      display:flex;\n",
              "      flex-wrap:wrap;\n",
              "      gap: 12px;\n",
              "    }\n",
              "\n",
              "    .colab-df-convert {\n",
              "      background-color: #E8F0FE;\n",
              "      border: none;\n",
              "      border-radius: 50%;\n",
              "      cursor: pointer;\n",
              "      display: none;\n",
              "      fill: #1967D2;\n",
              "      height: 32px;\n",
              "      padding: 0 0 0 0;\n",
              "      width: 32px;\n",
              "    }\n",
              "\n",
              "    .colab-df-convert:hover {\n",
              "      background-color: #E2EBFA;\n",
              "      box-shadow: 0px 1px 2px rgba(60, 64, 67, 0.3), 0px 1px 3px 1px rgba(60, 64, 67, 0.15);\n",
              "      fill: #174EA6;\n",
              "    }\n",
              "\n",
              "    [theme=dark] .colab-df-convert {\n",
              "      background-color: #3B4455;\n",
              "      fill: #D2E3FC;\n",
              "    }\n",
              "\n",
              "    [theme=dark] .colab-df-convert:hover {\n",
              "      background-color: #434B5C;\n",
              "      box-shadow: 0px 1px 3px 1px rgba(0, 0, 0, 0.15);\n",
              "      filter: drop-shadow(0px 1px 2px rgba(0, 0, 0, 0.3));\n",
              "      fill: #FFFFFF;\n",
              "    }\n",
              "  </style>\n",
              "\n",
              "      <script>\n",
              "        const buttonEl =\n",
              "          document.querySelector('#df-c39144d2-a951-4193-838b-d3c9a6c074b6 button.colab-df-convert');\n",
              "        buttonEl.style.display =\n",
              "          google.colab.kernel.accessAllowed ? 'block' : 'none';\n",
              "\n",
              "        async function convertToInteractive(key) {\n",
              "          const element = document.querySelector('#df-c39144d2-a951-4193-838b-d3c9a6c074b6');\n",
              "          const dataTable =\n",
              "            await google.colab.kernel.invokeFunction('convertToInteractive',\n",
              "                                                     [key], {});\n",
              "          if (!dataTable) return;\n",
              "\n",
              "          const docLinkHtml = 'Like what you see? Visit the ' +\n",
              "            '<a target=\"_blank\" href=https://colab.research.google.com/notebooks/data_table.ipynb>data table notebook</a>'\n",
              "            + ' to learn more about interactive tables.';\n",
              "          element.innerHTML = '';\n",
              "          dataTable['output_type'] = 'display_data';\n",
              "          await google.colab.output.renderOutput(dataTable, element);\n",
              "          const docLink = document.createElement('div');\n",
              "          docLink.innerHTML = docLinkHtml;\n",
              "          element.appendChild(docLink);\n",
              "        }\n",
              "      </script>\n",
              "    </div>\n",
              "  </div>\n",
              "  "
            ]
          },
          "metadata": {},
          "execution_count": 48
        }
      ]
    },
    {
      "cell_type": "code",
      "source": [
        "#Returning the label of each column in the DataFrame\n",
        "df.columns"
      ],
      "metadata": {
        "id": "GtKhlJ0YIMDA",
        "colab": {
          "base_uri": "https://localhost:8080/"
        },
        "outputId": "998755b9-c76f-4036-b07e-bc7e286f3c54"
      },
      "execution_count": 49,
      "outputs": [
        {
          "output_type": "execute_result",
          "data": {
            "text/plain": [
              "Index(['id', 'picture', 'name', 'price', 'authority', 'date', 'controller',\n",
              "       'article_violated', 'type', 'source', 'summary'],\n",
              "      dtype='object')"
            ]
          },
          "metadata": {},
          "execution_count": 49
        }
      ]
    },
    {
      "cell_type": "code",
      "source": [
        "#Calculating some statistical data like percentile, mean and std of the numerical values of the data\n",
        "df.describe()"
      ],
      "metadata": {
        "id": "V6exzsTZIOe9",
        "colab": {
          "base_uri": "https://localhost:8080/",
          "height": 300
        },
        "outputId": "a8ad71a5-5434-42f2-9505-214cfa7f9ee4"
      },
      "execution_count": 50,
      "outputs": [
        {
          "output_type": "execute_result",
          "data": {
            "text/plain": [
              "               id         price\n",
              "count  250.000000  2.500000e+02\n",
              "mean   125.500000  6.132140e+05\n",
              "std     72.312977  3.980372e+06\n",
              "min      1.000000  0.000000e+00\n",
              "25%     63.250000  2.500000e+03\n",
              "50%    125.500000  1.050000e+04\n",
              "75%    187.750000  6.000000e+04\n",
              "max    250.000000  5.000000e+07"
            ],
            "text/html": [
              "\n",
              "  <div id=\"df-e2a505c8-cb4c-4a60-835a-45b2988e5897\">\n",
              "    <div class=\"colab-df-container\">\n",
              "      <div>\n",
              "<style scoped>\n",
              "    .dataframe tbody tr th:only-of-type {\n",
              "        vertical-align: middle;\n",
              "    }\n",
              "\n",
              "    .dataframe tbody tr th {\n",
              "        vertical-align: top;\n",
              "    }\n",
              "\n",
              "    .dataframe thead th {\n",
              "        text-align: right;\n",
              "    }\n",
              "</style>\n",
              "<table border=\"1\" class=\"dataframe\">\n",
              "  <thead>\n",
              "    <tr style=\"text-align: right;\">\n",
              "      <th></th>\n",
              "      <th>id</th>\n",
              "      <th>price</th>\n",
              "    </tr>\n",
              "  </thead>\n",
              "  <tbody>\n",
              "    <tr>\n",
              "      <th>count</th>\n",
              "      <td>250.000000</td>\n",
              "      <td>2.500000e+02</td>\n",
              "    </tr>\n",
              "    <tr>\n",
              "      <th>mean</th>\n",
              "      <td>125.500000</td>\n",
              "      <td>6.132140e+05</td>\n",
              "    </tr>\n",
              "    <tr>\n",
              "      <th>std</th>\n",
              "      <td>72.312977</td>\n",
              "      <td>3.980372e+06</td>\n",
              "    </tr>\n",
              "    <tr>\n",
              "      <th>min</th>\n",
              "      <td>1.000000</td>\n",
              "      <td>0.000000e+00</td>\n",
              "    </tr>\n",
              "    <tr>\n",
              "      <th>25%</th>\n",
              "      <td>63.250000</td>\n",
              "      <td>2.500000e+03</td>\n",
              "    </tr>\n",
              "    <tr>\n",
              "      <th>50%</th>\n",
              "      <td>125.500000</td>\n",
              "      <td>1.050000e+04</td>\n",
              "    </tr>\n",
              "    <tr>\n",
              "      <th>75%</th>\n",
              "      <td>187.750000</td>\n",
              "      <td>6.000000e+04</td>\n",
              "    </tr>\n",
              "    <tr>\n",
              "      <th>max</th>\n",
              "      <td>250.000000</td>\n",
              "      <td>5.000000e+07</td>\n",
              "    </tr>\n",
              "  </tbody>\n",
              "</table>\n",
              "</div>\n",
              "      <button class=\"colab-df-convert\" onclick=\"convertToInteractive('df-e2a505c8-cb4c-4a60-835a-45b2988e5897')\"\n",
              "              title=\"Convert this dataframe to an interactive table.\"\n",
              "              style=\"display:none;\">\n",
              "        \n",
              "  <svg xmlns=\"http://www.w3.org/2000/svg\" height=\"24px\"viewBox=\"0 0 24 24\"\n",
              "       width=\"24px\">\n",
              "    <path d=\"M0 0h24v24H0V0z\" fill=\"none\"/>\n",
              "    <path d=\"M18.56 5.44l.94 2.06.94-2.06 2.06-.94-2.06-.94-.94-2.06-.94 2.06-2.06.94zm-11 1L8.5 8.5l.94-2.06 2.06-.94-2.06-.94L8.5 2.5l-.94 2.06-2.06.94zm10 10l.94 2.06.94-2.06 2.06-.94-2.06-.94-.94-2.06-.94 2.06-2.06.94z\"/><path d=\"M17.41 7.96l-1.37-1.37c-.4-.4-.92-.59-1.43-.59-.52 0-1.04.2-1.43.59L10.3 9.45l-7.72 7.72c-.78.78-.78 2.05 0 2.83L4 21.41c.39.39.9.59 1.41.59.51 0 1.02-.2 1.41-.59l7.78-7.78 2.81-2.81c.8-.78.8-2.07 0-2.86zM5.41 20L4 18.59l7.72-7.72 1.47 1.35L5.41 20z\"/>\n",
              "  </svg>\n",
              "      </button>\n",
              "      \n",
              "  <style>\n",
              "    .colab-df-container {\n",
              "      display:flex;\n",
              "      flex-wrap:wrap;\n",
              "      gap: 12px;\n",
              "    }\n",
              "\n",
              "    .colab-df-convert {\n",
              "      background-color: #E8F0FE;\n",
              "      border: none;\n",
              "      border-radius: 50%;\n",
              "      cursor: pointer;\n",
              "      display: none;\n",
              "      fill: #1967D2;\n",
              "      height: 32px;\n",
              "      padding: 0 0 0 0;\n",
              "      width: 32px;\n",
              "    }\n",
              "\n",
              "    .colab-df-convert:hover {\n",
              "      background-color: #E2EBFA;\n",
              "      box-shadow: 0px 1px 2px rgba(60, 64, 67, 0.3), 0px 1px 3px 1px rgba(60, 64, 67, 0.15);\n",
              "      fill: #174EA6;\n",
              "    }\n",
              "\n",
              "    [theme=dark] .colab-df-convert {\n",
              "      background-color: #3B4455;\n",
              "      fill: #D2E3FC;\n",
              "    }\n",
              "\n",
              "    [theme=dark] .colab-df-convert:hover {\n",
              "      background-color: #434B5C;\n",
              "      box-shadow: 0px 1px 3px 1px rgba(0, 0, 0, 0.15);\n",
              "      filter: drop-shadow(0px 1px 2px rgba(0, 0, 0, 0.3));\n",
              "      fill: #FFFFFF;\n",
              "    }\n",
              "  </style>\n",
              "\n",
              "      <script>\n",
              "        const buttonEl =\n",
              "          document.querySelector('#df-e2a505c8-cb4c-4a60-835a-45b2988e5897 button.colab-df-convert');\n",
              "        buttonEl.style.display =\n",
              "          google.colab.kernel.accessAllowed ? 'block' : 'none';\n",
              "\n",
              "        async function convertToInteractive(key) {\n",
              "          const element = document.querySelector('#df-e2a505c8-cb4c-4a60-835a-45b2988e5897');\n",
              "          const dataTable =\n",
              "            await google.colab.kernel.invokeFunction('convertToInteractive',\n",
              "                                                     [key], {});\n",
              "          if (!dataTable) return;\n",
              "\n",
              "          const docLinkHtml = 'Like what you see? Visit the ' +\n",
              "            '<a target=\"_blank\" href=https://colab.research.google.com/notebooks/data_table.ipynb>data table notebook</a>'\n",
              "            + ' to learn more about interactive tables.';\n",
              "          element.innerHTML = '';\n",
              "          dataTable['output_type'] = 'display_data';\n",
              "          await google.colab.output.renderOutput(dataTable, element);\n",
              "          const docLink = document.createElement('div');\n",
              "          docLink.innerHTML = docLinkHtml;\n",
              "          element.appendChild(docLink);\n",
              "        }\n",
              "      </script>\n",
              "    </div>\n",
              "  </div>\n",
              "  "
            ]
          },
          "metadata": {},
          "execution_count": 50
        }
      ]
    },
    {
      "cell_type": "code",
      "source": [
        "#Getting the information which contains the number of columns, column labels, column data types, memory usage, range index and the number of cells in each column (non-null values)\n",
        "df.info()"
      ],
      "metadata": {
        "id": "8sQaC1yXIau-",
        "colab": {
          "base_uri": "https://localhost:8080/"
        },
        "outputId": "4fffd97a-b04c-463f-e3c4-c01aced2c657"
      },
      "execution_count": 51,
      "outputs": [
        {
          "output_type": "stream",
          "name": "stdout",
          "text": [
            "<class 'pandas.core.frame.DataFrame'>\n",
            "RangeIndex: 250 entries, 0 to 249\n",
            "Data columns (total 11 columns):\n",
            " #   Column            Non-Null Count  Dtype \n",
            "---  ------            --------------  ----- \n",
            " 0   id                250 non-null    int64 \n",
            " 1   picture           250 non-null    object\n",
            " 2   name              250 non-null    object\n",
            " 3   price             250 non-null    int64 \n",
            " 4   authority         250 non-null    object\n",
            " 5   date              250 non-null    object\n",
            " 6   controller        250 non-null    object\n",
            " 7   article_violated  250 non-null    object\n",
            " 8   type              250 non-null    object\n",
            " 9   source            250 non-null    object\n",
            " 10  summary           250 non-null    object\n",
            "dtypes: int64(2), object(9)\n",
            "memory usage: 21.6+ KB\n"
          ]
        }
      ]
    },
    {
      "cell_type": "code",
      "source": [
        "#Checking for missing values and from the info we do not have any missing value because a return of 0.\n",
        "df.isna().sum()"
      ],
      "metadata": {
        "id": "acifGLZjIQaH",
        "colab": {
          "base_uri": "https://localhost:8080/"
        },
        "outputId": "ceb06a86-c289-47a9-c8ae-dc0b725358f3"
      },
      "execution_count": 52,
      "outputs": [
        {
          "output_type": "execute_result",
          "data": {
            "text/plain": [
              "id                  0\n",
              "picture             0\n",
              "name                0\n",
              "price               0\n",
              "authority           0\n",
              "date                0\n",
              "controller          0\n",
              "article_violated    0\n",
              "type                0\n",
              "source              0\n",
              "summary             0\n",
              "dtype: int64"
            ]
          },
          "metadata": {},
          "execution_count": 52
        }
      ]
    },
    {
      "cell_type": "markdown",
      "source": [
        "**EXPLORING THE DATA**"
      ],
      "metadata": {
        "id": "uPGcn7CwLBow"
      }
    },
    {
      "cell_type": "markdown",
      "source": [
        "**1. Time breakdown of the total violations in the EU.** "
      ],
      "metadata": {
        "id": "zuzoOW87K6Eg"
      }
    },
    {
      "cell_type": "code",
      "source": [
        "# Converting date column to pandas datetime format\n",
        "df['date'] = pd.to_datetime(df['date'])\n",
        "# Grouping by year and month, and summing up the number of violations for each group\n",
        "time_breakdown = df.groupby([df['date'].dt.year, df['date'].dt.month]).agg({'article_violated': 'count'})\n",
        "time_breakdown.index.names = ['Year', 'Month']  # Rename index to 'Year' and 'Month' for clarity\n",
        "print(time_breakdown)"
      ],
      "metadata": {
        "id": "v0HbV5p1MAQA",
        "colab": {
          "base_uri": "https://localhost:8080/"
        },
        "outputId": "1cc11a9b-01b4-40c9-8a36-fc0d3a93e900"
      },
      "execution_count": 53,
      "outputs": [
        {
          "output_type": "stream",
          "name": "stdout",
          "text": [
            "            article_violated\n",
            "Year Month                  \n",
            "1970 1                    15\n",
            "2018 5                     1\n",
            "     7                     1\n",
            "     9                     1\n",
            "     10                    1\n",
            "     11                    2\n",
            "     12                    5\n",
            "2019 1                    10\n",
            "     2                    13\n",
            "     3                    14\n",
            "     4                    11\n",
            "     5                     9\n",
            "     6                     9\n",
            "     7                    12\n",
            "     8                     8\n",
            "     9                    10\n",
            "     10                   30\n",
            "     11                   23\n",
            "     12                   21\n",
            "2020 1                    13\n",
            "     2                    21\n",
            "     3                    20\n"
          ]
        }
      ]
    },
    {
      "cell_type": "code",
      "source": [
        "time_breakdown.plot(kind='bar', figsize=(10, 5))\n",
        "plt.title(\"Time breakdown of the total violations in the EU\", fontsize= 15, color =\"black\")\n",
        "plt.xlabel('Month and Year')\n",
        "plt.ylabel('Total Violations')\n",
        "plt.show()\n",
        "plt.savefig(\"Time breakdown.png\")"
      ],
      "metadata": {
        "colab": {
          "base_uri": "https://localhost:8080/",
          "height": 423
        },
        "id": "8Zi61cGFK9_u",
        "outputId": "97501b66-d727-47f0-f61d-44f8ca0f3b5e"
      },
      "execution_count": 54,
      "outputs": [
        {
          "output_type": "display_data",
          "data": {
            "text/plain": [
              "<Figure size 720x360 with 1 Axes>"
            ],
            "image/png": "[encoded data removed]"
          },
          "metadata": {}
        },
        {
          "output_type": "display_data",
          "data": {
            "text/plain": [
              "<Figure size 1080x576 with 0 Axes>"
            ]
          },
          "metadata": {}
        }
      ]
    },
    {
      "cell_type": "markdown",
      "source": [
        "**2. Most expensive violation by country, listing the specific violation type e.g failure to comply with processing regulation.**"
      ],
      "metadata": {
        "id": "xFdp2Zi5WQZ1"
      }
    },
    {
      "cell_type": "code",
      "source": [
        "most_expensive_violation = df.groupby('name')['price'].max().sort_values(ascending=False)[:10]\n",
        "most_expensive_violation"
      ],
      "metadata": {
        "id": "Q6jwZ4P_WdV_",
        "colab": {
          "base_uri": "https://localhost:8080/"
        },
        "outputId": "3211bfbd-9c8e-4163-c51b-d1b1a6ecf223"
      },
      "execution_count": 55,
      "outputs": [
        {
          "output_type": "execute_result",
          "data": {
            "text/plain": [
              "name\n",
              "France            50000000\n",
              "Italy             27802946\n",
              "Austria           18000000\n",
              "Germany           14500000\n",
              "Sweden             7000000\n",
              "Bulgaria           2600000\n",
              "Netherlands         900000\n",
              "Poland              644780\n",
              "Portugal            400000\n",
              "United Kingdom      320000\n",
              "Name: price, dtype: int64"
            ]
          },
          "metadata": {},
          "execution_count": 55
        }
      ]
    },
    {
      "cell_type": "code",
      "source": [
        "# Plot the bar graph\n",
        "plt.figure(figsize=(10, 5))\n",
        "plt.bar(most_expensive_violation.index, most_expensive_violation.values)\n",
        "plt.xlabel('Country')\n",
        "plt.ylabel('Fine (EUR)')\n",
        "plt.title('Top 10 Most Expensive Violations by Country', fontsize=15, color = 'black')\n",
        "plt.show()\n",
        "plt.savefig(\"Most Expensive Violation.png\")"
      ],
      "metadata": {
        "id": "uBdVX3BzW9pj",
        "colab": {
          "base_uri": "https://localhost:8080/",
          "height": 375
        },
        "outputId": "eb083642-8ea2-4958-81f2-214b9ea2548f"
      },
      "execution_count": 56,
      "outputs": [
        {
          "output_type": "display_data",
          "data": {
            "text/plain": [
              "<Figure size 720x360 with 1 Axes>"
            ],
            "image/png": "[encoded data removed]"
          },
          "metadata": {}
        },
        {
          "output_type": "display_data",
          "data": {
            "text/plain": [
              "<Figure size 1080x576 with 0 Axes>"
            ]
          },
          "metadata": {}
        }
      ]
    },
    {
      "cell_type": "markdown",
      "source": [
        "**3. Vodafone's GDPR violations in volume.**"
      ],
      "metadata": {
        "id": "JtA8X0rMdDvj"
      }
    },
    {
      "cell_type": "code",
      "source": [
        "# Sorting the names in the column 'Name' that start with 'vodafone'\n",
        "Vodafone_names = df[df['controller'].str.startswith('Vodafone')].sort_values('controller')\n",
        "# Print the sorted names\n",
        "print(Vodafone_names['controller'])"
      ],
      "metadata": {
        "id": "DaSRatQSdZDM",
        "colab": {
          "base_uri": "https://localhost:8080/"
        },
        "outputId": "8cb1a74c-492c-4180-b709-427c6dc7595d"
      },
      "execution_count": 57,
      "outputs": [
        {
          "output_type": "stream",
          "name": "stdout",
          "text": [
            "82             Vodafone Espana\n",
            "194            Vodafone Espana\n",
            "159            Vodafone Espana\n",
            "158            Vodafone Espana\n",
            "145            Vodafone Espana\n",
            "144            Vodafone Espana\n",
            "195            Vodafone Espana\n",
            "142            Vodafone Espana\n",
            "141            Vodafone Espana\n",
            "91             Vodafone Espana\n",
            "89             Vodafone Espana\n",
            "224            Vodafone España\n",
            "223            Vodafone España\n",
            "222            Vodafone España\n",
            "220            Vodafone España\n",
            "214            Vodafone España\n",
            "205    Vodafone España, S.A.U.\n",
            "203    Vodafone España, S.A.U.\n",
            "202    Vodafone España, S.A.U.\n",
            "201    Vodafone España, S.A.U.\n",
            "143               Vodafone ONO\n",
            "213               Vodafone ONO\n",
            "237           Vodafone Romania\n",
            "239           Vodafone Romania\n",
            "Name: controller, dtype: object\n"
          ]
        }
      ]
    },
    {
      "cell_type": "code",
      "source": [
        "# Create a subset of the dataframe where controller starts with \"Vodafone\"\n",
        "vodafone_subset = df[df['controller'].str.startswith('Vodafone')]\n",
        "# Count the number of Vodafone GDPR violations\n",
        "num_vodafone_violations = len(vodafone_subset)\n",
        "# Print the number of Vodafone GDPR violations\n",
        "print(f\"Vodafone has {num_vodafone_violations} GDPR violations.\")"
      ],
      "metadata": {
        "colab": {
          "base_uri": "https://localhost:8080/"
        },
        "id": "H4sHBRC9UXfD",
        "outputId": "ec4c195e-d3e5-4560-c26e-6e39e642ec4a"
      },
      "execution_count": 58,
      "outputs": [
        {
          "output_type": "stream",
          "name": "stdout",
          "text": [
            "Vodafone has 24 GDPR violations.\n"
          ]
        }
      ]
    },
    {
      "cell_type": "markdown",
      "source": [
        "**4. Companies with the highest violations.**"
      ],
      "metadata": {
        "id": "_Y0NQC1xTOzE"
      }
    },
    {
      "cell_type": "code",
      "source": [
        "#Get a count of the number of GDPR violations by companies\n",
        "company_counts = df['controller'].value_counts().nlargest(10)\n",
        "company_counts"
      ],
      "metadata": {
        "id": "ykBebgSGTU7V",
        "colab": {
          "base_uri": "https://localhost:8080/"
        },
        "outputId": "0e498d22-96ae-4b75-9a92-9e1e93e2b933"
      },
      "execution_count": 59,
      "outputs": [
        {
          "output_type": "execute_result",
          "data": {
            "text/plain": [
              "Unknown                    15\n",
              "Vodafone Espana            11\n",
              "Not available               6\n",
              "Vodafone España             5\n",
              "Private individual          5\n",
              "Xfera Moviles S.A.          4\n",
              "Not disclosed               4\n",
              "Vodafone España, S.A.U.     4\n",
              "Restaurant                  3\n",
              "Telefónica SA               2\n",
              "Name: controller, dtype: int64"
            ]
          },
          "metadata": {},
          "execution_count": 59
        }
      ]
    },
    {
      "cell_type": "code",
      "source": [
        "#top_companies = df['controller'].value_counts().nlargest(10)\n",
        "fig, ax = plt.subplots(figsize=(8, 6))\n",
        "ax.barh(company_counts.index, company_counts.values)\n",
        "ax.set_xlabel(\"Number of GDPR Violations\")\n",
        "ax.set_ylabel(\"Company\")\n",
        "ax.set_title(\"Count of GDPR Violations by Company\")\n",
        "plt.show()\n",
        "plt.savefig(\"Companies with the highest violations.png\")"
      ],
      "metadata": {
        "id": "aRg42AXMaoCk",
        "colab": {
          "base_uri": "https://localhost:8080/",
          "height": 428
        },
        "outputId": "b7c1d782-4b62-43bd-9c61-4b1b3c715edf"
      },
      "execution_count": 60,
      "outputs": [
        {
          "output_type": "display_data",
          "data": {
            "text/plain": [
              "<Figure size 576x432 with 1 Axes>"
            ],
            "image/png": "[encoded data removed]"
          },
          "metadata": {}
        },
        {
          "output_type": "display_data",
          "data": {
            "text/plain": [
              "<Figure size 1080x576 with 0 Axes>"
            ]
          },
          "metadata": {}
        }
      ]
    },
    {
      "cell_type": "markdown",
      "source": [
        "**5. Map the data and make this interactive.**"
      ],
      "metadata": {
        "id": "8q87f8pjTV4H"
      }
    },
    {
      "cell_type": "code",
      "source": [
        "# Group the dataframe by country and count the number of violations for each country\n",
        "country_counts = df.groupby('name')['price'].count().reset_index(name='violation_count')\n",
        "country_counts.head()"
      ],
      "metadata": {
        "id": "u8AmGd3IpzNL"
      },
      "execution_count": null,
      "outputs": []
    },
    {
      "cell_type": "code",
      "source": [
        "world = gpd.read_file(gpd.datasets.get_path('naturalearth_lowres'))\n",
        "world.head(5)"
      ],
      "metadata": {
        "id": "ss8mVUtQzmnP"
      },
      "execution_count": null,
      "outputs": []
    },
    {
      "cell_type": "code",
      "source": [
        "# Join the violation counts to the world map based on the country names\n",
        "merged = world.merge(df.groupby('name').size().reset_index(name='violation_count'), left_on='name', right_on='name')\n",
        "\n",
        "fig, ax = plt.subplots(figsize=(12, 6))\n",
        "merged.plot(column='violation_count', cmap='Blues', linewidth=0.8, edgecolor='black', ax=ax)\n",
        "ax.axis('off')\n",
        "ax.set_title('GDPR Violations by Country')\n",
        "# Add a legend\n",
        "sm = plt.cm.ScalarMappable(cmap='Blues', norm=plt.Normalize(vmin=merged['violation_count'].min(), vmax=merged['violation_count'].max()))\n",
        "sm._A = []\n",
        "cbar = fig.colorbar(sm, orientation='horizontal')  # change orientation to horizontal\n",
        "cbar.ax.set_title('Number of Violations')\n",
        "plt.show()\n",
        "plt.savefig(\"GDPR violations by country.png\")"
      ],
      "metadata": {
        "colab": {
          "base_uri": "https://localhost:8080/",
          "height": 452
        },
        "id": "t6SK5JGGw5SP",
        "outputId": "48cc69a0-1c3f-40aa-862d-0bcbeb98a145"
      },
      "execution_count": 68,
      "outputs": [
        {
          "output_type": "stream",
          "name": "stderr",
          "text": [
            "<ipython-input-68-92188edfbdb9>:11: MatplotlibDeprecationWarning: Unable to determine Axes to steal space for Colorbar. Using gca(), but will raise in the future. Either provide the *cax* argument to use as the Axes for the Colorbar, provide the *ax* argument to steal space from it, or add *mappable* to an Axes.\n",
            "  cbar = fig.colorbar(sm, orientation='horizontal')  # change orientation to horizontal\n"
          ]
        },
        {
          "output_type": "display_data",
          "data": {
            "text/plain": [
              "<Figure size 864x432 with 2 Axes>"
            ],
            "image/png": "[encoded data removed]"
          },
          "metadata": {}
        },
        {
          "output_type": "display_data",
          "data": {
            "text/plain": [
              "<Figure size 1080x576 with 0 Axes>"
            ]
          },
          "metadata": {}
        }
      ]
    },
    {
      "cell_type": "markdown",
      "source": [
        "**6. Breakdown / Distribution and important metrics of fines levied per article. Prepare a Box, plot.**"
      ],
      "metadata": {
        "id": "15kdt7drTb6x"
      }
    },
    {
      "cell_type": "code",
      "source": [
        "# Grouping the data by article and calculating various metrics\n",
        "article_stats = df.groupby('article_violated')['price'].agg(['count', 'sum', 'mean', 'median', 'min', 'max'])\n",
        "article_stats['percent_of_total_fine'] = article_stats['sum'] / article_stats['sum'].sum()\n",
        "article_stats"
      ],
      "metadata": {
        "id": "AQfsbttk04tJ",
        "colab": {
          "base_uri": "https://localhost:8080/",
          "height": 455
        },
        "outputId": "c7c329b1-df1d-4148-cb91-0064a224581b"
      },
      "execution_count": 69,
      "outputs": [
        {
          "output_type": "execute_result",
          "data": {
            "text/plain": [
              "                                                    count     sum      mean  \\\n",
              "article_violated                                                              \n",
              " Art. 58 GDPR                                           1    2000    2000.0   \n",
              "Art 6 (1) GDPR|Art 58 (2) e) GDPR|Art 83 (5) a)...      1   28100   28100.0   \n",
              "Art. 12 (3) GDPR|Art. 15 (1) GDPR                       1     511     511.0   \n",
              "Art. 12 (4) GDPR|Art. 15 GDPR                           1    1121    1121.0   \n",
              "Art. 12 (4) GDPR|Art. 15 GDPR|Art. 18 (1) c) GD...      1    3200    3200.0   \n",
              "...                                                   ...     ...       ...   \n",
              "Art.14 GDPR                                             2  320000  160000.0   \n",
              "Art.14 of the GDPR                                      1  140000  140000.0   \n",
              "Data Protection Act 2018                                1   80000   80000.0   \n",
              "Failure to implement sufficient measures to ens...      1       0       0.0   \n",
              "Unknown                                                 2    1800     900.0   \n",
              "\n",
              "                                                      median     min     max  \\\n",
              "article_violated                                                               \n",
              " Art. 58 GDPR                                         2000.0    2000    2000   \n",
              "Art 6 (1) GDPR|Art 58 (2) e) GDPR|Art 83 (5) a)...   28100.0   28100   28100   \n",
              "Art. 12 (3) GDPR|Art. 15 (1) GDPR                      511.0     511     511   \n",
              "Art. 12 (4) GDPR|Art. 15 GDPR                         1121.0    1121    1121   \n",
              "Art. 12 (4) GDPR|Art. 15 GDPR|Art. 18 (1) c) GD...    3200.0    3200    3200   \n",
              "...                                                      ...     ...     ...   \n",
              "Art.14 GDPR                                         160000.0  100000  220000   \n",
              "Art.14 of the GDPR                                  140000.0  140000  140000   \n",
              "Data Protection Act 2018                             80000.0   80000   80000   \n",
              "Failure to implement sufficient measures to ens...       0.0       0       0   \n",
              "Unknown                                                900.0       0    1800   \n",
              "\n",
              "                                                    percent_of_total_fine  \n",
              "article_violated                                                           \n",
              " Art. 58 GDPR                                                    0.000013  \n",
              "Art 6 (1) GDPR|Art 58 (2) e) GDPR|Art 83 (5) a)...               0.000183  \n",
              "Art. 12 (3) GDPR|Art. 15 (1) GDPR                                0.000003  \n",
              "Art. 12 (4) GDPR|Art. 15 GDPR                                    0.000007  \n",
              "Art. 12 (4) GDPR|Art. 15 GDPR|Art. 18 (1) c) GD...               0.000021  \n",
              "...                                                                   ...  \n",
              "Art.14 GDPR                                                      0.002087  \n",
              "Art.14 of the GDPR                                               0.000913  \n",
              "Data Protection Act 2018                                         0.000522  \n",
              "Failure to implement sufficient measures to ens...               0.000000  \n",
              "Unknown                                                          0.000012  \n",
              "\n",
              "[88 rows x 7 columns]"
            ],
            "text/html": [
              "\n",
              "  <div id=\"df-f5cbd1e7-7eb0-4b0f-815e-8944350edd4a\">\n",
              "    <div class=\"colab-df-container\">\n",
              "      <div>\n",
              "<style scoped>\n",
              "    .dataframe tbody tr th:only-of-type {\n",
              "        vertical-align: middle;\n",
              "    }\n",
              "\n",
              "    .dataframe tbody tr th {\n",
              "        vertical-align: top;\n",
              "    }\n",
              "\n",
              "    .dataframe thead th {\n",
              "        text-align: right;\n",
              "    }\n",
              "</style>\n",
              "<table border=\"1\" class=\"dataframe\">\n",
              "  <thead>\n",
              "    <tr style=\"text-align: right;\">\n",
              "      <th></th>\n",
              "      <th>count</th>\n",
              "      <th>sum</th>\n",
              "      <th>mean</th>\n",
              "      <th>median</th>\n",
              "      <th>min</th>\n",
              "      <th>max</th>\n",
              "      <th>percent_of_total_fine</th>\n",
              "    </tr>\n",
              "    <tr>\n",
              "      <th>article_violated</th>\n",
              "      <th></th>\n",
              "      <th></th>\n",
              "      <th></th>\n",
              "      <th></th>\n",
              "      <th></th>\n",
              "      <th></th>\n",
              "      <th></th>\n",
              "    </tr>\n",
              "  </thead>\n",
              "  <tbody>\n",
              "    <tr>\n",
              "      <th>Art. 58 GDPR</th>\n",
              "      <td>1</td>\n",
              "      <td>2000</td>\n",
              "      <td>2000.0</td>\n",
              "      <td>2000.0</td>\n",
              "      <td>2000</td>\n",
              "      <td>2000</td>\n",
              "      <td>0.000013</td>\n",
              "    </tr>\n",
              "    <tr>\n",
              "      <th>Art 6 (1) GDPR|Art 58 (2) e) GDPR|Art 83 (5) a) GDPR</th>\n",
              "      <td>1</td>\n",
              "      <td>28100</td>\n",
              "      <td>28100.0</td>\n",
              "      <td>28100.0</td>\n",
              "      <td>28100</td>\n",
              "      <td>28100</td>\n",
              "      <td>0.000183</td>\n",
              "    </tr>\n",
              "    <tr>\n",
              "      <th>Art. 12 (3) GDPR|Art. 15 (1) GDPR</th>\n",
              "      <td>1</td>\n",
              "      <td>511</td>\n",
              "      <td>511.0</td>\n",
              "      <td>511.0</td>\n",
              "      <td>511</td>\n",
              "      <td>511</td>\n",
              "      <td>0.000003</td>\n",
              "    </tr>\n",
              "    <tr>\n",
              "      <th>Art. 12 (4) GDPR|Art. 15 GDPR</th>\n",
              "      <td>1</td>\n",
              "      <td>1121</td>\n",
              "      <td>1121.0</td>\n",
              "      <td>1121.0</td>\n",
              "      <td>1121</td>\n",
              "      <td>1121</td>\n",
              "      <td>0.000007</td>\n",
              "    </tr>\n",
              "    <tr>\n",
              "      <th>Art. 12 (4) GDPR|Art. 15 GDPR|Art. 18 (1) c) GDPR|Art. 13 GDPR</th>\n",
              "      <td>1</td>\n",
              "      <td>3200</td>\n",
              "      <td>3200.0</td>\n",
              "      <td>3200.0</td>\n",
              "      <td>3200</td>\n",
              "      <td>3200</td>\n",
              "      <td>0.000021</td>\n",
              "    </tr>\n",
              "    <tr>\n",
              "      <th>...</th>\n",
              "      <td>...</td>\n",
              "      <td>...</td>\n",
              "      <td>...</td>\n",
              "      <td>...</td>\n",
              "      <td>...</td>\n",
              "      <td>...</td>\n",
              "      <td>...</td>\n",
              "    </tr>\n",
              "    <tr>\n",
              "      <th>Art.14 GDPR</th>\n",
              "      <td>2</td>\n",
              "      <td>320000</td>\n",
              "      <td>160000.0</td>\n",
              "      <td>160000.0</td>\n",
              "      <td>100000</td>\n",
              "      <td>220000</td>\n",
              "      <td>0.002087</td>\n",
              "    </tr>\n",
              "    <tr>\n",
              "      <th>Art.14 of the GDPR</th>\n",
              "      <td>1</td>\n",
              "      <td>140000</td>\n",
              "      <td>140000.0</td>\n",
              "      <td>140000.0</td>\n",
              "      <td>140000</td>\n",
              "      <td>140000</td>\n",
              "      <td>0.000913</td>\n",
              "    </tr>\n",
              "    <tr>\n",
              "      <th>Data Protection Act 2018</th>\n",
              "      <td>1</td>\n",
              "      <td>80000</td>\n",
              "      <td>80000.0</td>\n",
              "      <td>80000.0</td>\n",
              "      <td>80000</td>\n",
              "      <td>80000</td>\n",
              "      <td>0.000522</td>\n",
              "    </tr>\n",
              "    <tr>\n",
              "      <th>Failure to implement sufficient measures to ensure information security</th>\n",
              "      <td>1</td>\n",
              "      <td>0</td>\n",
              "      <td>0.0</td>\n",
              "      <td>0.0</td>\n",
              "      <td>0</td>\n",
              "      <td>0</td>\n",
              "      <td>0.000000</td>\n",
              "    </tr>\n",
              "    <tr>\n",
              "      <th>Unknown</th>\n",
              "      <td>2</td>\n",
              "      <td>1800</td>\n",
              "      <td>900.0</td>\n",
              "      <td>900.0</td>\n",
              "      <td>0</td>\n",
              "      <td>1800</td>\n",
              "      <td>0.000012</td>\n",
              "    </tr>\n",
              "  </tbody>\n",
              "</table>\n",
              "<p>88 rows × 7 columns</p>\n",
              "</div>\n",
              "      <button class=\"colab-df-convert\" onclick=\"convertToInteractive('df-f5cbd1e7-7eb0-4b0f-815e-8944350edd4a')\"\n",
              "              title=\"Convert this dataframe to an interactive table.\"\n",
              "              style=\"display:none;\">\n",
              "        \n",
              "  <svg xmlns=\"http://www.w3.org/2000/svg\" height=\"24px\"viewBox=\"0 0 24 24\"\n",
              "       width=\"24px\">\n",
              "    <path d=\"M0 0h24v24H0V0z\" fill=\"none\"/>\n",
              "    <path d=\"M18.56 5.44l.94 2.06.94-2.06 2.06-.94-2.06-.94-.94-2.06-.94 2.06-2.06.94zm-11 1L8.5 8.5l.94-2.06 2.06-.94-2.06-.94L8.5 2.5l-.94 2.06-2.06.94zm10 10l.94 2.06.94-2.06 2.06-.94-2.06-.94-.94-2.06-.94 2.06-2.06.94z\"/><path d=\"M17.41 7.96l-1.37-1.37c-.4-.4-.92-.59-1.43-.59-.52 0-1.04.2-1.43.59L10.3 9.45l-7.72 7.72c-.78.78-.78 2.05 0 2.83L4 21.41c.39.39.9.59 1.41.59.51 0 1.02-.2 1.41-.59l7.78-7.78 2.81-2.81c.8-.78.8-2.07 0-2.86zM5.41 20L4 18.59l7.72-7.72 1.47 1.35L5.41 20z\"/>\n",
              "  </svg>\n",
              "      </button>\n",
              "      \n",
              "  <style>\n",
              "    .colab-df-container {\n",
              "      display:flex;\n",
              "      flex-wrap:wrap;\n",
              "      gap: 12px;\n",
              "    }\n",
              "\n",
              "    .colab-df-convert {\n",
              "      background-color: #E8F0FE;\n",
              "      border: none;\n",
              "      border-radius: 50%;\n",
              "      cursor: pointer;\n",
              "      display: none;\n",
              "      fill: #1967D2;\n",
              "      height: 32px;\n",
              "      padding: 0 0 0 0;\n",
              "      width: 32px;\n",
              "    }\n",
              "\n",
              "    .colab-df-convert:hover {\n",
              "      background-color: #E2EBFA;\n",
              "      box-shadow: 0px 1px 2px rgba(60, 64, 67, 0.3), 0px 1px 3px 1px rgba(60, 64, 67, 0.15);\n",
              "      fill: #174EA6;\n",
              "    }\n",
              "\n",
              "    [theme=dark] .colab-df-convert {\n",
              "      background-color: #3B4455;\n",
              "      fill: #D2E3FC;\n",
              "    }\n",
              "\n",
              "    [theme=dark] .colab-df-convert:hover {\n",
              "      background-color: #434B5C;\n",
              "      box-shadow: 0px 1px 3px 1px rgba(0, 0, 0, 0.15);\n",
              "      filter: drop-shadow(0px 1px 2px rgba(0, 0, 0, 0.3));\n",
              "      fill: #FFFFFF;\n",
              "    }\n",
              "  </style>\n",
              "\n",
              "      <script>\n",
              "        const buttonEl =\n",
              "          document.querySelector('#df-f5cbd1e7-7eb0-4b0f-815e-8944350edd4a button.colab-df-convert');\n",
              "        buttonEl.style.display =\n",
              "          google.colab.kernel.accessAllowed ? 'block' : 'none';\n",
              "\n",
              "        async function convertToInteractive(key) {\n",
              "          const element = document.querySelector('#df-f5cbd1e7-7eb0-4b0f-815e-8944350edd4a');\n",
              "          const dataTable =\n",
              "            await google.colab.kernel.invokeFunction('convertToInteractive',\n",
              "                                                     [key], {});\n",
              "          if (!dataTable) return;\n",
              "\n",
              "          const docLinkHtml = 'Like what you see? Visit the ' +\n",
              "            '<a target=\"_blank\" href=https://colab.research.google.com/notebooks/data_table.ipynb>data table notebook</a>'\n",
              "            + ' to learn more about interactive tables.';\n",
              "          element.innerHTML = '';\n",
              "          dataTable['output_type'] = 'display_data';\n",
              "          await google.colab.output.renderOutput(dataTable, element);\n",
              "          const docLink = document.createElement('div');\n",
              "          docLink.innerHTML = docLinkHtml;\n",
              "          element.appendChild(docLink);\n",
              "        }\n",
              "      </script>\n",
              "    </div>\n",
              "  </div>\n",
              "  "
            ]
          },
          "metadata": {},
          "execution_count": 69
        }
      ]
    },
    {
      "cell_type": "code",
      "source": [
        "# Get the top 25 most frequently violated articles\n",
        "top_25_articles = df['article_violated'].value_counts().nlargest(5).index.tolist()\n",
        "# Filter the data to only include the top 5 articles\n",
        "top_25_violations = df[df['article_violated'].isin(top_25_articles)]"
      ],
      "metadata": {
        "id": "5jPX9TatWECv"
      },
      "execution_count": 70,
      "outputs": []
    },
    {
      "cell_type": "code",
      "source": [
        "# Create a boxplot of fines per article using seaborn\n",
        "sns.boxplot(x='article_violated', y='price', data=top_25_violations)\n",
        "sns.set(rc={'figure.figsize':(15,8)})\n",
        "plt.title('Distribution of Fines per Article (Top 25 Most Frequently Violated Articles)')\n",
        "plt.xlabel('Article')\n",
        "plt.ylabel('Fine (euros)')\n",
        "plt.show()\n",
        "plt.savefig(\"Distribution of Fines per Article.png\")"
      ],
      "metadata": {
        "colab": {
          "base_uri": "https://localhost:8080/",
          "height": 537
        },
        "id": "FeaZFPKuW2sJ",
        "outputId": "479b52d5-dc7d-489d-c925-a39b77091ef1"
      },
      "execution_count": 74,
      "outputs": [
        {
          "output_type": "display_data",
          "data": {
            "text/plain": [
              "<Figure size 1080x576 with 1 Axes>"
            ],
            "image/png": "[encoded data removed]"
          },
          "metadata": {}
        },
        {
          "output_type": "display_data",
          "data": {
            "text/plain": [
              "<Figure size 1080x576 with 0 Axes>"
            ]
          },
          "metadata": {}
        }
      ]
    },
    {
      "cell_type": "markdown",
      "source": [
        "**7. Top 10 most violated articles**"
      ],
      "metadata": {
        "id": "dIarm3XuThtC"
      }
    },
    {
      "cell_type": "code",
      "source": [
        "most_violated_articles = df['article_violated'].value_counts().sort_values(ascending=False)\n",
        "print(\"Top 10 most violated articles:\")\n",
        "most_violated_articles.head(10)"
      ],
      "metadata": {
        "colab": {
          "base_uri": "https://localhost:8080/"
        },
        "id": "DNL9L7XaTlqG",
        "outputId": "cc4c08ac-5b56-477b-a82c-6b3c81c57a1c"
      },
      "execution_count": 71,
      "outputs": [
        {
          "output_type": "stream",
          "name": "stdout",
          "text": [
            "Top 10 most violated articles:\n"
          ]
        },
        {
          "output_type": "execute_result",
          "data": {
            "text/plain": [
              "Art. 32 GDPR                       40\n",
              "Art. 6 GDPR                        33\n",
              "Art. 5 GDPR|Art. 6 GDPR            20\n",
              "Art. 15 GDPR                       10\n",
              "Art. 5 GDPR                        10\n",
              "Art. 5 (1) f) GDPR|Art. 32 GDPR    10\n",
              "Art. 5 (1) f) GDPR                  7\n",
              "Art. 13 GDPR                        7\n",
              "Art. 5 (1) a) GDPR|Art. 6 GDPR      6\n",
              "Art. 5 (1) c) GDPR                  6\n",
              "Name: article_violated, dtype: int64"
            ]
          },
          "metadata": {},
          "execution_count": 71
        }
      ]
    },
    {
      "cell_type": "markdown",
      "source": [
        "**8. Article with the highest associated fine**"
      ],
      "metadata": {
        "id": "ENo9_wKVTl6F"
      }
    },
    {
      "cell_type": "code",
      "source": [
        "highest_associated_fine = df.groupby(\"article_violated\")[\"price\"].max()\n",
        "highest_associated_fine.sort_values(ascending=False, inplace=True)\n",
        "highest_associated_fine\n"
      ],
      "metadata": {
        "colab": {
          "base_uri": "https://localhost:8080/"
        },
        "id": "lwZO3ZvdjxGl",
        "outputId": "b3243be5-fdf4-4b74-c6c7-a8a666154558"
      },
      "execution_count": 72,
      "outputs": [
        {
          "output_type": "execute_result",
          "data": {
            "text/plain": [
              "article_violated\n",
              "Art. 13 GDPR|Art. 14 GDPR|Art. 6 GDPR|Art. 4 GDPR|Art. 5 GDPR              50000000\n",
              "Art. 58(2) GDPR                                                            27802946\n",
              "Art. 5 (1) a) GDPR|Art. 6 GDPR                                             18000000\n",
              "Art. 5 GDPR|Art. 25 GDPR                                                   14500000\n",
              "Art. 32 GDPR                                                                9550000\n",
              "                                                                             ...   \n",
              "Art. 6 GDPR|Art. 7 GDPR                                                         588\n",
              "Art. 12 (3) GDPR|Art. 15 (1) GDPR                                               511\n",
              "Art. 5 (1) a) GDPR|Art. 9 (1) GDPR|Art. 9 (2) GDPR|Art. 6 (1) GDPR              510\n",
              "Art. 15 (1), (3) GDPR                                                             0\n",
              "Failure to implement sufficient measures to ensure information security           0\n",
              "Name: price, Length: 88, dtype: int64"
            ]
          },
          "metadata": {},
          "execution_count": 72
        }
      ]
    },
    {
      "cell_type": "code",
      "source": [
        "# Sort the dataframe by fine in descending order\n",
        "df_sorted = df.sort_values(by='price', ascending=False)\n",
        "\n",
        "# Select the first row (i.e., the row with the highest fine)\n",
        "article_with_highest_fine = df_sorted.iloc[0]['article_violated']\n",
        "\n",
        "# Print the article with the highest fine\n",
        "print(\"Article with the highest associated fine:\", article_with_highest_fine)"
      ],
      "metadata": {
        "colab": {
          "base_uri": "https://localhost:8080/"
        },
        "id": "rf0j7cLmkLkz",
        "outputId": "9eb363ea-ece3-425a-cad9-06f6fabf7bb9"
      },
      "execution_count": 73,
      "outputs": [
        {
          "output_type": "stream",
          "name": "stdout",
          "text": [
            "Article with the highest associated fine: Art. 13 GDPR|Art. 14 GDPR|Art. 6 GDPR|Art. 4 GDPR|Art. 5 GDPR\n"
          ]
        }
      ]
    }
  ]
}